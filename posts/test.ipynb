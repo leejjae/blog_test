{
 "cells": [
  {
   "cell_type": "raw",
   "metadata": {},
   "source": [
    "---\n",
    "title: \"my title\"\n",
    "author: \"이정재\"\n",
    "date: \"01/02/2024\"\n",
    "---"
   ]
  },
  {
   "cell_type": "markdown",
   "metadata": {},
   "source": [
    "## `-` 1일차 숙제\n"
   ]
  },
  {
   "cell_type": "markdown",
   "metadata": {},
   "source": [
    "###  1. 파이썬의 개발환경 역사\n",
    "\n",
    "* 1세대 프로그래머의 삶 with python\n",
    "* 2세대 프로그래머의 삶 with ipyhon\n",
    "* 3세대 프로그래머의 삶 with 메모장 + ipython\n",
    "* 4세대 프로그래머의 삶 with IDE(통합개발환경)\n",
    "* 5세대 프로그래머의 삶 with 가상컴퓨터 + 원격컴퓨터 + 클라우드컴퓨터\n"
   ]
  },
  {
   "cell_type": "markdown",
   "metadata": {},
   "source": [
    "### 2. R의 패키지 설치를 통한 가상환경의 이해"
   ]
  }
 ],
 "metadata": {
  "kernelspec": {
   "display_name": "Python 3",
   "language": "python",
   "name": "python3"
  },
  "language_info": {
   "codemirror_mode": {
    "name": "ipython",
    "version": 3
   },
   "file_extension": ".py",
   "mimetype": "text/x-python",
   "name": "python",
   "nbconvert_exporter": "python",
   "pygments_lexer": "ipython3",
   "version": "3.10.13"
  }
 },
 "nbformat": 4,
 "nbformat_minor": 2
}
